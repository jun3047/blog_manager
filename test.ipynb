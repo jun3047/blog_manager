{
 "cells": [
  {
   "cell_type": "code",
   "execution_count": 16,
   "metadata": {},
   "outputs": [
    {
     "name": "stderr",
     "output_type": "stream",
     "text": [
      "/var/folders/rn/9l03hzb97h5d3c7l9rbf0clc0000gn/T/ipykernel_67243/3022565405.py:5: DeprecationWarning: executable_path has been deprecated, please pass in a Service object\n",
      "  driver = webdriver.Chrome(\"/Users/jeongjun/Downloads/chromedriver\") # 본인 것으로 설정해야 함.\n"
     ]
    }
   ],
   "source": [
    "from selenium.webdriver.common.by import By\n",
    "from selenium import webdriver\n",
    "import re\n",
    "\n",
    "driver = webdriver.Chrome(\"/Users/jeongjun/Downloads/chromedriver\") # 본인 것으로 설정해야 함.\n",
    "\n",
    "#`처음 url로 이동\n",
    "URL = 'https://search.naver.com/search.naver?where=view&sm=tab_jum&query='\n",
    "\n",
    "\n",
    "import json\n",
    "from collections import OrderedDict\n",
    "\n",
    "data = OrderedDict()\n",
    "\n",
    "\n",
    "data[\"name\"] = '대학생 과팅, 압도적으로 승리하는 법'\n",
    "data[\"keyword\"] = '과팅'\n",
    "\n",
    "\n",
    "def search(a):\n",
    "    global driver\n",
    "    driver.get(URL+a)\n",
    "\n",
    "# 현재 url 가져오기\n",
    "def getCurrentUrl():\n",
    "    global driver\n",
    "    return driver.current_url\n",
    "\n",
    "# 웹 리로딩 (setUrl을 쓴 이후 리로딩하기 위함)\n",
    "def refesh():\n",
    "    global driver\n",
    "    driver.refresh()"
   ]
  },
  {
   "cell_type": "code",
   "execution_count": 17,
   "metadata": {},
   "outputs": [
    {
     "name": "stdout",
     "output_type": "stream",
     "text": [
      "초과\n"
     ]
    }
   ],
   "source": [
    "import time\n",
    "\n",
    "blogName = data['name']\n",
    "keyword = data['keyword']\n",
    "\n",
    "search(keyword)\n",
    "\n",
    "# 스크롤 내리기\n",
    "#스크롤 내리기 이동 전 위치\n",
    "scroll_location = driver.execute_script(\"return document.body.scrollHeight\")\n",
    "\n",
    "while True:\n",
    "\t#현재 스크롤의 가장 아래로 내림\n",
    "    driver.execute_script(\"window.scrollTo(0,document.body.scrollHeight)\")\n",
    "       \n",
    "    #전체 스크롤이 늘어날 때까지 대기\n",
    "    time.sleep(3)\n",
    "    \n",
    "    #늘어난 스크롤 높이\n",
    "    scroll_height = driver.execute_script(\"return document.body.scrollHeight\")\n",
    "\n",
    "\n",
    "    #늘어난 스크롤 위치와 이동 전 위치 같으면(더 이상 스크롤이 늘어나지 않으면) 종료\n",
    "    if scroll_location == scroll_height:\n",
    "        break\n",
    "    elif len(driver.find_elements(By.CLASS_NAME, 'total_tit')) > 100:\n",
    "        print('초과')\n",
    "        break\n",
    "    else:\n",
    "        scroll_location = driver.execute_script(\"return document.body.scrollHeight\")\n",
    "\n",
    "    \t#스크롤 위치값을 수정\n",
    "\n",
    "\n",
    "blogList = driver.find_elements(By.CLASS_NAME, \"total_tit\")\n"
   ]
  },
  {
   "cell_type": "code",
   "execution_count": 19,
   "metadata": {},
   "outputs": [
    {
     "name": "stdout",
     "output_type": "stream",
     "text": [
      "105\n",
      "4\n"
     ]
    }
   ],
   "source": [
    "blogNameList = list()\n",
    "\n",
    "for a in blogList:\n",
    "    blogNameList.append(a.text)\n",
    "    # print(a.get_attribute('href'))\n",
    "\n",
    "\n",
    "def searchRank():\n",
    "    print(len(blogNameList))\n",
    "    print(blogNameList.index(blogName)+1)\n",
    "\n",
    "searchRank()\n",
    "\n",
    "# 인풋: 제목, 키워드\n",
    "# 아웃풋: 순위\n"
   ]
  }
 ],
 "metadata": {
  "kernelspec": {
   "display_name": "Python 3",
   "language": "python",
   "name": "python3"
  },
  "language_info": {
   "codemirror_mode": {
    "name": "ipython",
    "version": 3
   },
   "file_extension": ".py",
   "mimetype": "text/x-python",
   "name": "python",
   "nbconvert_exporter": "python",
   "pygments_lexer": "ipython3",
   "version": "3.10.7"
  },
  "orig_nbformat": 4,
  "vscode": {
   "interpreter": {
    "hash": "aee8b7b246df8f9039afb4144a1f6fd8d2ca17a180786b69acc140d282b71a49"
   }
  }
 },
 "nbformat": 4,
 "nbformat_minor": 2
}
